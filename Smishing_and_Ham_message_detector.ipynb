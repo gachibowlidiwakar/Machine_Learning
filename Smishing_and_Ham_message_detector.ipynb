{
  "cells": [
    {
      "cell_type": "markdown",
      "source": [
        "This code aims to classify text messages as smishing or ham. For doing the same, a model has been trained on a labeled dataset with 640 smishing entries and 4874 ham entries"
      ],
      "metadata": {
        "id": "WLfo8xV3oEW7"
      }
    },
    {
      "cell_type": "code",
      "execution_count": 1,
      "metadata": {
        "id": "97n7MK-x5zz1"
      },
      "outputs": [],
      "source": [
        "import pandas as pd\n",
        "from sklearn.model_selection import train_test_split\n",
        "from keras.preprocessing.text import Tokenizer\n",
        "from keras.preprocessing.sequence import pad_sequences\n",
        "from keras.models import Sequential\n",
        "from keras.layers import Embedding, Conv1D, MaxPooling1D, Flatten, Dense\n",
        "from keras.utils import to_categorical"
      ]
    },
    {
      "cell_type": "code",
      "execution_count": 25,
      "metadata": {
        "colab": {
          "base_uri": "https://localhost:8080/"
        },
        "id": "rE1e6XkJmZXz",
        "outputId": "c1a85427-8e4d-4552-c1fe-e76568f71e55"
      },
      "outputs": [
        {
          "output_type": "stream",
          "name": "stdout",
          "text": [
            "[0. 1.]\n"
          ]
        }
      ],
      "source": [
        "data = pd.read_csv('/content/SMS.csv')\n",
        "\n",
        "data['LABEL'] = data['LABEL'].map({'Smishing': 1, 'ham': 0})\n",
        "data.dropna(subset=['LABEL'], inplace=True)\n",
        "data.reset_index(drop=True, inplace=True)\n",
        "X = data['TEXT']\n",
        "y = data['LABEL']\n",
        "print(y.unique())"
      ]
    },
    {
      "cell_type": "markdown",
      "source": [
        "This shows the number of smishing entries"
      ],
      "metadata": {
        "id": "ErYPxKdtoTmI"
      }
    },
    {
      "cell_type": "code",
      "source": [
        "print(len(data[data['LABEL']==1]))"
      ],
      "metadata": {
        "colab": {
          "base_uri": "https://localhost:8080/"
        },
        "id": "7UU6VzVknh-v",
        "outputId": "945c8956-23ae-4b11-e6ec-38fd7b14a9ae"
      },
      "execution_count": 9,
      "outputs": [
        {
          "output_type": "stream",
          "name": "stdout",
          "text": [
            "640\n"
          ]
        }
      ]
    },
    {
      "cell_type": "markdown",
      "source": [
        "This shows the number of ham entries"
      ],
      "metadata": {
        "id": "2bwGQJ6roWZp"
      }
    },
    {
      "cell_type": "code",
      "source": [
        "print(len(data[data['LABEL']==0]))"
      ],
      "metadata": {
        "colab": {
          "base_uri": "https://localhost:8080/"
        },
        "id": "lQdOcfejnqB-",
        "outputId": "46da6e83-b799-4dfa-aac1-6eb8732143c5"
      },
      "execution_count": 10,
      "outputs": [
        {
          "output_type": "stream",
          "name": "stdout",
          "text": [
            "4874\n"
          ]
        }
      ]
    },
    {
      "cell_type": "markdown",
      "source": [
        "The dataset has text messages. Hence, all the text has been tokenised and encoded into categorical data"
      ],
      "metadata": {
        "id": "_NC8CX4koZY4"
      }
    },
    {
      "cell_type": "code",
      "execution_count": 24,
      "metadata": {
        "colab": {
          "base_uri": "https://localhost:8080/"
        },
        "id": "MaYt6-9AmZXz",
        "outputId": "13e1d09f-6039-4744-b6dd-78d7bb3114ae"
      },
      "outputs": [
        {
          "output_type": "stream",
          "name": "stdout",
          "text": [
            "Model: \"sequential_1\"\n",
            "_________________________________________________________________\n",
            " Layer (type)                Output Shape              Param #   \n",
            "=================================================================\n",
            " embedding_1 (Embedding)     (None, 200, 100)          1000000   \n",
            "                                                                 \n",
            " conv1d_1 (Conv1D)           (None, 196, 128)          64128     \n",
            "                                                                 \n",
            " max_pooling1d_1 (MaxPoolin  (None, 98, 128)           0         \n",
            " g1D)                                                            \n",
            "                                                                 \n",
            " flatten_1 (Flatten)         (None, 12544)             0         \n",
            "                                                                 \n",
            " dense_2 (Dense)             (None, 10)                125450    \n",
            "                                                                 \n",
            " dense_3 (Dense)             (None, 2)                 22        \n",
            "                                                                 \n",
            "=================================================================\n",
            "Total params: 1189600 (4.54 MB)\n",
            "Trainable params: 1189600 (4.54 MB)\n",
            "Non-trainable params: 0 (0.00 Byte)\n",
            "_________________________________________________________________\n"
          ]
        }
      ],
      "source": [
        "max_words = 10000\n",
        "max_length = 200\n",
        "tokenizer = Tokenizer(num_words=max_words)\n",
        "tokenizer.fit_on_texts(X)\n",
        "X_sequences = tokenizer.texts_to_sequences(X)\n",
        "X_padded = pad_sequences(X_sequences, maxlen=max_length)\n",
        "y_categorical = to_categorical(y)\n",
        "X_train, X_test, y_train, y_test = train_test_split(X_padded, y_categorical, test_size=0.2, random_state=42)\n",
        "\n",
        "embedding_dim = 100\n",
        "filters = 128\n",
        "kernel_size = 5\n",
        "\n",
        "model = Sequential()\n",
        "model.add(Embedding(input_dim=max_words, output_dim=embedding_dim, input_length=max_length))\n",
        "model.add(Conv1D(filters=filters, kernel_size=kernel_size, activation='relu'))\n",
        "model.add(MaxPooling1D())\n",
        "model.add(Flatten())\n",
        "model.add(Dense(10, activation='relu'))\n",
        "model.add(Dense(2, activation='softmax'))\n",
        "model.compile(optimizer='adam', loss='categorical_crossentropy', metrics=['accuracy'])\n",
        "model.summary()"
      ]
    },
    {
      "cell_type": "markdown",
      "source": [
        "The model has been trained for 10 epochs, accuracy and loss are tracked at every epoch"
      ],
      "metadata": {
        "id": "0_sD4_9eokq-"
      }
    },
    {
      "cell_type": "code",
      "execution_count": 4,
      "metadata": {
        "colab": {
          "base_uri": "https://localhost:8080/"
        },
        "id": "h3ZQnyE7mZX0",
        "outputId": "8a76a7bf-b156-4065-a37d-63c6bf42d716"
      },
      "outputs": [
        {
          "output_type": "stream",
          "name": "stdout",
          "text": [
            "Epoch 1/10\n",
            "69/69 [==============================] - 13s 140ms/step - loss: 0.2656 - accuracy: 0.8703 - val_loss: 0.1223 - val_accuracy: 0.9846\n",
            "Epoch 2/10\n",
            "69/69 [==============================] - 11s 161ms/step - loss: 0.0930 - accuracy: 0.9916 - val_loss: 0.1112 - val_accuracy: 0.9864\n",
            "Epoch 3/10\n",
            "69/69 [==============================] - 11s 160ms/step - loss: 0.0781 - accuracy: 0.9980 - val_loss: 0.1060 - val_accuracy: 0.9882\n",
            "Epoch 4/10\n",
            "69/69 [==============================] - 12s 168ms/step - loss: 0.0707 - accuracy: 0.9980 - val_loss: 0.0960 - val_accuracy: 0.9891\n",
            "Epoch 5/10\n",
            "69/69 [==============================] - 9s 136ms/step - loss: 0.0646 - accuracy: 0.9989 - val_loss: 0.0978 - val_accuracy: 0.9891\n",
            "Epoch 6/10\n",
            "69/69 [==============================] - 13s 183ms/step - loss: 0.0592 - accuracy: 0.9989 - val_loss: 0.0987 - val_accuracy: 0.9891\n",
            "Epoch 7/10\n",
            "69/69 [==============================] - 18s 266ms/step - loss: 0.0549 - accuracy: 0.9986 - val_loss: 0.0943 - val_accuracy: 0.9882\n",
            "Epoch 8/10\n",
            "69/69 [==============================] - 16s 231ms/step - loss: 0.0503 - accuracy: 0.9993 - val_loss: 0.1055 - val_accuracy: 0.9882\n",
            "Epoch 9/10\n",
            "69/69 [==============================] - 10s 147ms/step - loss: 0.0466 - accuracy: 0.9993 - val_loss: 0.0943 - val_accuracy: 0.9891\n",
            "Epoch 10/10\n",
            "69/69 [==============================] - 11s 159ms/step - loss: 0.0431 - accuracy: 0.9993 - val_loss: 0.0955 - val_accuracy: 0.9891\n"
          ]
        },
        {
          "output_type": "execute_result",
          "data": {
            "text/plain": [
              "<keras.src.callbacks.History at 0x7b990409d510>"
            ]
          },
          "metadata": {},
          "execution_count": 4
        }
      ],
      "source": [
        "model.fit(X_train, y_train, epochs=10, batch_size=64, validation_data=(X_test, y_test))"
      ]
    },
    {
      "cell_type": "code",
      "source": [
        "from sklearn.metrics import confusion_matrix, ConfusionMatrixDisplay, accuracy_score\n",
        "import numpy as np\n",
        "import matplotlib.pyplot as plt\n",
        "import seaborn as sns"
      ],
      "metadata": {
        "id": "04j2-9VcnOxv"
      },
      "execution_count": 16,
      "outputs": []
    },
    {
      "cell_type": "markdown",
      "source": [
        "This code prints the confusion matrix for the trained model using the test data and it can be seen that the model performs well"
      ],
      "metadata": {
        "id": "mMr5_4BEovrS"
      }
    },
    {
      "cell_type": "code",
      "source": [
        "y_pred_prob = model.predict(X_test)\n",
        "y_pred = np.argmax(y_pred_prob, axis=1)\n",
        "y_true = np.argmax(y_test, axis=1)\n",
        "cm = confusion_matrix(y_true, y_pred)\n",
        "plt.figure(figsize=(10, 7))\n",
        "sns.heatmap(cm, annot=True, fmt='d', cmap='Blues', xticklabels=['ham', 'Smishing'], yticklabels=['ham', 'Smishing'])\n",
        "plt.xlabel('Predicted')\n",
        "plt.ylabel('True')\n",
        "plt.title('Confusion Matrix')\n",
        "plt.show()"
      ],
      "metadata": {
        "colab": {
          "base_uri": "https://localhost:8080/",
          "height": 659
        },
        "id": "PFWGOPRtnQGo",
        "outputId": "aacf6acb-36a8-43a9-eba4-38d30becc27c"
      },
      "execution_count": 23,
      "outputs": [
        {
          "output_type": "stream",
          "name": "stdout",
          "text": [
            "35/35 [==============================] - 2s 48ms/step\n"
          ]
        },
        {
          "output_type": "display_data",
          "data": {
            "text/plain": [
              "<Figure size 1000x700 with 2 Axes>"
            ],
            "image/png": "[encoded data removed]"
          },
          "metadata": {}
        }
      ]
    },
    {
      "cell_type": "markdown",
      "source": [
        "A testing accuracy of 98.91% has been obtained as has been considered as a satisfactory value."
      ],
      "metadata": {
        "id": "GbJ4IYFZpLbU"
      }
    },
    {
      "cell_type": "code",
      "source": [
        "accuracy = accuracy_score(y_true, y_pred)\n",
        "print(f'Testing Accuracy: {accuracy:.4f}')"
      ],
      "metadata": {
        "colab": {
          "base_uri": "https://localhost:8080/"
        },
        "id": "VaemC1ldpFAX",
        "outputId": "e89cf644-4f5e-41c0-8302-db5c0b897270"
      },
      "execution_count": 17,
      "outputs": [
        {
          "output_type": "stream",
          "name": "stdout",
          "text": [
            "Testing Accuracy: 0.9891\n"
          ]
        }
      ]
    },
    {
      "cell_type": "code",
      "execution_count": 12,
      "metadata": {
        "id": "pZ605Fp_6JO6"
      },
      "outputs": [],
      "source": [
        "import numpy as np\n",
        "from keras.models import load_model\n",
        "loaded_model = model"
      ]
    },
    {
      "cell_type": "markdown",
      "source": [
        "Various test cases have been taken to evaluate the model's performance by considering the prediction given by the model"
      ],
      "metadata": {
        "id": "cORbAX8MpUZQ"
      }
    },
    {
      "cell_type": "code",
      "source": [
        "new_message = \"collect your lottery of 2500000 here immediately. Click on this link\"\n",
        "new_message_sequence = tokenizer.texts_to_sequences([new_message])\n",
        "new_message_padded = pad_sequences(new_message_sequence, maxlen=max_length)\n",
        "\n",
        "prediction = loaded_model.predict(new_message_padded)\n",
        "print(prediction)\n",
        "predicted_label = np.argmax(prediction)\n",
        "print(predicted_label)\n",
        "\n",
        "label_mapping = {0: 'ham', 1: 'Smishing'}\n",
        "predicted_class = label_mapping[predicted_label]\n",
        "\n",
        "print(f\"The model classifies the message as: '{predicted_class}'\")"
      ],
      "metadata": {
        "colab": {
          "base_uri": "https://localhost:8080/"
        },
        "id": "iuPY_zsUnv5S",
        "outputId": "f52e6d3c-261f-48be-c4a3-97e7cc1aa742"
      },
      "execution_count": 22,
      "outputs": [
        {
          "output_type": "stream",
          "name": "stdout",
          "text": [
            "1/1 [==============================] - 0s 36ms/step\n",
            "[[0.29224315 0.70775676]]\n",
            "1\n",
            "The model classifies the message as: 'Smishing'\n"
          ]
        }
      ]
    },
    {
      "cell_type": "code",
      "source": [
        "new_message = \"Heyy! How are you doing?\"\n",
        "new_message_sequence = tokenizer.texts_to_sequences([new_message])\n",
        "new_message_padded = pad_sequences(new_message_sequence, maxlen=max_length)\n",
        "\n",
        "prediction = loaded_model.predict(new_message_padded)\n",
        "print(prediction)\n",
        "predicted_label = np.argmax(prediction)\n",
        "print(predicted_label)\n",
        "\n",
        "label_mapping = {0: 'ham', 1: 'Smishing'}\n",
        "predicted_class = label_mapping[predicted_label]\n",
        "\n",
        "print(f\"The model classifies the message as: '{predicted_class}'\")"
      ],
      "metadata": {
        "colab": {
          "base_uri": "https://localhost:8080/"
        },
        "id": "NXUsibgRn2s_",
        "outputId": "b007a9c7-4600-4d97-eb0d-af84fa553c93"
      },
      "execution_count": 21,
      "outputs": [
        {
          "output_type": "stream",
          "name": "stdout",
          "text": [
            "1/1 [==============================] - 0s 89ms/step\n",
            "[[9.9999046e-01 9.5911164e-06]]\n",
            "0\n",
            "The model classifies the message as: 'ham'\n"
          ]
        }
      ]
    },
    {
      "cell_type": "markdown",
      "source": [
        "This is a special test case where a message in Hindi has been used and still gets clssified as smishing"
      ],
      "metadata": {
        "id": "GxTx7cwYpgOT"
      }
    },
    {
      "cell_type": "code",
      "source": [
        "new_message = \"Bank ke dwara jeeta hua lottery collect karnekeliye turant ye link pe click kare \"\n",
        "\n",
        "new_message_sequence = tokenizer.texts_to_sequences([new_message])\n",
        "new_message_padded = pad_sequences(new_message_sequence, maxlen=max_length)\n",
        "\n",
        "prediction = loaded_model.predict(new_message_padded)\n",
        "print(prediction)\n",
        "predicted_label = np.argmax(prediction)\n",
        "print(predicted_label)\n",
        "\n",
        "label_mapping = {0: 'ham', 1: 'Smishing'}\n",
        "predicted_class = label_mapping[predicted_label]\n",
        "\n",
        "print(f\"The model classifies the message as: '{predicted_class}'\")"
      ],
      "metadata": {
        "colab": {
          "base_uri": "https://localhost:8080/"
        },
        "id": "thkmNMXjn6Sy",
        "outputId": "faa7a8a6-5fdf-45e5-9e63-8c36e6cedf8b"
      },
      "execution_count": 20,
      "outputs": [
        {
          "output_type": "stream",
          "name": "stdout",
          "text": [
            "1/1 [==============================] - 0s 36ms/step\n",
            "[[0.36773425 0.63226575]]\n",
            "1\n",
            "The model classifies the message as: 'Smishing'\n"
          ]
        }
      ]
    },
    {
      "cell_type": "code",
      "source": [],
      "metadata": {
        "id": "AmR48ikUptuu"
      },
      "execution_count": null,
      "outputs": []
    }
  ],
  "metadata": {
    "colab": {
      "provenance": []
    },
    "kernelspec": {
      "display_name": "Python 3",
      "name": "python3"
    },
    "language_info": {
      "codemirror_mode": {
        "name": "ipython",
        "version": 3
      },
      "file_extension": ".py",
      "mimetype": "text/x-python",
      "name": "python",
      "nbconvert_exporter": "python",
      "pygments_lexer": "ipython3",
      "version": "3.11.4"
    }
  },
  "nbformat": 4,
  "nbformat_minor": 0
}