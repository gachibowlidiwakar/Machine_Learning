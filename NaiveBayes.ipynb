{
  "cells": [
    {
      "cell_type": "code",
      "execution_count": 1,
      "metadata": {
        "id": "s6VgpJRUiv9_"
      },
      "outputs": [],
      "source": [
        "import pandas as pd\n",
        "import numpy as np\n",
        "from sklearn.model_selection import train_test_split"
      ]
    },
    {
      "cell_type": "markdown",
      "source": [
        "The code below builds a basic Naive Bayes Classifier on the Pima Indians Diabetes Dataset. It works by multiplying all normal and conditional probabilities when the outcome is 1 and when the outcome is 0, comparing both to see which value is greater. This would be the predicted value."
      ],
      "metadata": {
        "id": "xLzHmCE0QDDu"
      }
    },
    {
      "cell_type": "code",
      "execution_count": 2,
      "metadata": {
        "id": "hjD4LKpaOaPn",
        "outputId": "b522d069-720a-4060-c4d3-dcd19f8ec88e",
        "colab": {
          "base_uri": "https://localhost:8080/"
        }
      },
      "outputs": [
        {
          "output_type": "stream",
          "name": "stdout",
          "text": [
            "The values of attributes for which you have to classify\n",
            "Enter Pregnancies value: 0\n",
            "Enter Glucose value: 198\n",
            "Enter BloodPressure value: 66\n",
            "Enter SkinThickness value: 32\n",
            "Enter Insulin value: 274\n",
            "Enter BMI value: 41.3\n",
            "Enter DiabetesPedigreeFunction value: 0.502\n",
            "Enter Age value: 28\n",
            "Probability of yes: 0.3489583333333333, Probability of no: 0.6510416666666666 for the whole dataset\n",
            "Probability of yes given the conditions: 2.199003725956361e-15\n",
            "Probability of no given the conditions: 0.0\n",
            "The tuple is classified to have outcome True\n",
            "Prediction: 1\n"
          ]
        }
      ],
      "source": [
        "import pandas as pd\n",
        "data = pd.read_csv('/content/diabetes.csv')\n",
        "\n",
        "data['Outcome'] = data['Outcome'].astype(str)\n",
        "\n",
        "columns = data.columns.tolist()\n",
        "columns.remove('Outcome')\n",
        "\n",
        "transactions = data.to_dict('records')\n",
        "\n",
        "print(\"The values of attributes for which you have to classify\")\n",
        "test = {}\n",
        "for j in columns:\n",
        "    test[j] = input(f\"Enter {j} value: \")\n",
        "\n",
        "n = len(transactions)\n",
        "no_of_yes = sum(1 for value in transactions if value['Outcome'] == \"1\")\n",
        "no_of_no = n - no_of_yes\n",
        "prob_yes = no_of_yes / n\n",
        "prob_no = no_of_no / n\n",
        "\n",
        "print(f\"Probability of yes: {prob_yes}, Probability of no: {prob_no} for the whole dataset\")\n",
        "\n",
        "p_final_yes = 1\n",
        "\n",
        "for key1, value1 in test.items():\n",
        "    p_temp = 1\n",
        "    count = sum(1 for value2 in transactions if value2['Outcome'] == \"1\" and str(value2[key1]) == value1)\n",
        "    p_temp = count / no_of_yes if no_of_yes != 0 else 0\n",
        "    p_final_yes *= p_temp\n",
        "\n",
        "print(f\"Probability of yes given the conditions: {p_final_yes}\")\n",
        "\n",
        "p_final_no = 1\n",
        "\n",
        "for key1, value1 in test.items():\n",
        "    p_temp = 1\n",
        "    count = sum(1 for value2 in transactions if value2['Outcome'] == \"0\" and str(value2[key1]) == value1)\n",
        "    p_temp = count / no_of_no if no_of_no != 0 else 0\n",
        "    p_final_no *= p_temp\n",
        "\n",
        "print(f\"Probability of no given the conditions: {p_final_no}\")\n",
        "\n",
        "if p_final_yes >= p_final_no:\n",
        "    print(\"The tuple is classified to have outcome True\")\n",
        "else:\n",
        "    print(\"The tuple is classified to have outcome False\")\n",
        "\n",
        "prediction = \"1\" if p_final_yes >= p_final_no else \"0\"\n",
        "print(\"Prediction:\", prediction)\n",
        "\n",
        "# 2 input tuples for making predictions\n",
        "# 0,198,66,32,274,41.3,0.502,28\n",
        "# 0,111,65,0,0,24.6,0.66,31"
      ]
    },
    {
      "cell_type": "code",
      "source": [],
      "metadata": {
        "id": "dNDrMJzFP6Ke"
      },
      "execution_count": null,
      "outputs": []
    }
  ],
  "metadata": {
    "colab": {
      "provenance": []
    },
    "kernelspec": {
      "display_name": "Python 3",
      "name": "python3"
    },
    "language_info": {
      "codemirror_mode": {
        "name": "ipython",
        "version": 3
      },
      "file_extension": ".py",
      "mimetype": "text/x-python",
      "name": "python",
      "nbconvert_exporter": "python",
      "pygments_lexer": "ipython3",
      "version": "3.11.5"
    }
  },
  "nbformat": 4,
  "nbformat_minor": 0
}